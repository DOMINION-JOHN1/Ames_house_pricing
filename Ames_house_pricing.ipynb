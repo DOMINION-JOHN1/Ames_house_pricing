{
 "cells": [
  {
   "cell_type": "code",
   "execution_count": 71,
   "metadata": {
    "collapsed": true,
    "pycharm": {
     "name": "#%%\n"
    }
   },
   "outputs": [],
   "source": [
    "import pandas as pd\n",
    "import matplotlib.pyplot as plt\n",
    "import seaborn as sns\n",
    "from sklearn.linear_model import LinearRegression\n"
   ]
  },
  {
   "cell_type": "code",
   "execution_count": 72,
   "outputs": [],
   "source": [
    "df = pd.read_csv('Ames_Housing_Data.csv')"
   ],
   "metadata": {
    "collapsed": false,
    "pycharm": {
     "name": "#%%\n"
    }
   }
  },
  {
   "cell_type": "code",
   "execution_count": 73,
   "outputs": [
    {
     "name": "stdout",
     "output_type": "stream",
     "text": [
      "<class 'pandas.core.frame.DataFrame'>\n",
      "RangeIndex: 2930 entries, 0 to 2929\n",
      "Data columns (total 81 columns):\n",
      " #   Column           Non-Null Count  Dtype  \n",
      "---  ------           --------------  -----  \n",
      " 0   PID              2930 non-null   int64  \n",
      " 1   MS SubClass      2930 non-null   int64  \n",
      " 2   MS Zoning        2930 non-null   object \n",
      " 3   Lot Frontage     2440 non-null   float64\n",
      " 4   Lot Area         2930 non-null   int64  \n",
      " 5   Street           2930 non-null   object \n",
      " 6   Alley            198 non-null    object \n",
      " 7   Lot Shape        2930 non-null   object \n",
      " 8   Land Contour     2930 non-null   object \n",
      " 9   Utilities        2930 non-null   object \n",
      " 10  Lot Config       2930 non-null   object \n",
      " 11  Land Slope       2930 non-null   object \n",
      " 12  Neighborhood     2930 non-null   object \n",
      " 13  Condition 1      2930 non-null   object \n",
      " 14  Condition 2      2930 non-null   object \n",
      " 15  Bldg Type        2930 non-null   object \n",
      " 16  House Style      2930 non-null   object \n",
      " 17  Overall Qual     2930 non-null   int64  \n",
      " 18  Overall Cond     2930 non-null   int64  \n",
      " 19  Year Built       2930 non-null   int64  \n",
      " 20  Year Remod/Add   2930 non-null   int64  \n",
      " 21  Roof Style       2930 non-null   object \n",
      " 22  Roof Matl        2930 non-null   object \n",
      " 23  Exterior 1st     2930 non-null   object \n",
      " 24  Exterior 2nd     2930 non-null   object \n",
      " 25  Mas Vnr Type     2907 non-null   object \n",
      " 26  Mas Vnr Area     2907 non-null   float64\n",
      " 27  Exter Qual       2930 non-null   object \n",
      " 28  Exter Cond       2930 non-null   object \n",
      " 29  Foundation       2930 non-null   object \n",
      " 30  Bsmt Qual        2850 non-null   object \n",
      " 31  Bsmt Cond        2850 non-null   object \n",
      " 32  Bsmt Exposure    2847 non-null   object \n",
      " 33  BsmtFin Type 1   2850 non-null   object \n",
      " 34  BsmtFin SF 1     2929 non-null   float64\n",
      " 35  BsmtFin Type 2   2849 non-null   object \n",
      " 36  BsmtFin SF 2     2929 non-null   float64\n",
      " 37  Bsmt Unf SF      2929 non-null   float64\n",
      " 38  Total Bsmt SF    2929 non-null   float64\n",
      " 39  Heating          2930 non-null   object \n",
      " 40  Heating QC       2930 non-null   object \n",
      " 41  Central Air      2930 non-null   object \n",
      " 42  Electrical       2929 non-null   object \n",
      " 43  1st Flr SF       2930 non-null   int64  \n",
      " 44  2nd Flr SF       2930 non-null   int64  \n",
      " 45  Low Qual Fin SF  2930 non-null   int64  \n",
      " 46  Gr Liv Area      2930 non-null   int64  \n",
      " 47  Bsmt Full Bath   2928 non-null   float64\n",
      " 48  Bsmt Half Bath   2928 non-null   float64\n",
      " 49  Full Bath        2930 non-null   int64  \n",
      " 50  Half Bath        2930 non-null   int64  \n",
      " 51  Bedroom AbvGr    2930 non-null   int64  \n",
      " 52  Kitchen AbvGr    2930 non-null   int64  \n",
      " 53  Kitchen Qual     2930 non-null   object \n",
      " 54  TotRms AbvGrd    2930 non-null   int64  \n",
      " 55  Functional       2930 non-null   object \n",
      " 56  Fireplaces       2930 non-null   int64  \n",
      " 57  Fireplace Qu     1508 non-null   object \n",
      " 58  Garage Type      2773 non-null   object \n",
      " 59  Garage Yr Blt    2771 non-null   float64\n",
      " 60  Garage Finish    2771 non-null   object \n",
      " 61  Garage Cars      2929 non-null   float64\n",
      " 62  Garage Area      2929 non-null   float64\n",
      " 63  Garage Qual      2771 non-null   object \n",
      " 64  Garage Cond      2771 non-null   object \n",
      " 65  Paved Drive      2930 non-null   object \n",
      " 66  Wood Deck SF     2930 non-null   int64  \n",
      " 67  Open Porch SF    2930 non-null   int64  \n",
      " 68  Enclosed Porch   2930 non-null   int64  \n",
      " 69  3Ssn Porch       2930 non-null   int64  \n",
      " 70  Screen Porch     2930 non-null   int64  \n",
      " 71  Pool Area        2930 non-null   int64  \n",
      " 72  Pool QC          13 non-null     object \n",
      " 73  Fence            572 non-null    object \n",
      " 74  Misc Feature     106 non-null    object \n",
      " 75  Misc Val         2930 non-null   int64  \n",
      " 76  Mo Sold          2930 non-null   int64  \n",
      " 77  Yr Sold          2930 non-null   int64  \n",
      " 78  Sale Type        2930 non-null   object \n",
      " 79  Sale Condition   2930 non-null   object \n",
      " 80  SalePrice        2930 non-null   int64  \n",
      "dtypes: float64(11), int64(27), object(43)\n",
      "memory usage: 1.8+ MB\n"
     ]
    }
   ],
   "source": [
    "df.info()"
   ],
   "metadata": {
    "collapsed": false,
    "pycharm": {
     "name": "#%%\n"
    }
   }
  },
  {
   "cell_type": "code",
   "execution_count": 74,
   "outputs": [
    {
     "data": {
      "text/plain": "            PID  MS SubClass MS Zoning  Lot Frontage  Lot Area Street Alley  \\\n0     526301100           20        RL         141.0     31770   Pave   NaN   \n1     526350040           20        RH          80.0     11622   Pave   NaN   \n2     526351010           20        RL          81.0     14267   Pave   NaN   \n3     526353030           20        RL          93.0     11160   Pave   NaN   \n4     527105010           60        RL          74.0     13830   Pave   NaN   \n...         ...          ...       ...           ...       ...    ...   ...   \n2925  923275080           80        RL          37.0      7937   Pave   NaN   \n2926  923276100           20        RL           NaN      8885   Pave   NaN   \n2927  923400125           85        RL          62.0     10441   Pave   NaN   \n2928  924100070           20        RL          77.0     10010   Pave   NaN   \n2929  924151050           60        RL          74.0      9627   Pave   NaN   \n\n     Lot Shape Land Contour Utilities  ... Pool Area Pool QC  Fence  \\\n0          IR1          Lvl    AllPub  ...         0     NaN    NaN   \n1          Reg          Lvl    AllPub  ...         0     NaN  MnPrv   \n2          IR1          Lvl    AllPub  ...         0     NaN    NaN   \n3          Reg          Lvl    AllPub  ...         0     NaN    NaN   \n4          IR1          Lvl    AllPub  ...         0     NaN  MnPrv   \n...        ...          ...       ...  ...       ...     ...    ...   \n2925       IR1          Lvl    AllPub  ...         0     NaN  GdPrv   \n2926       IR1          Low    AllPub  ...         0     NaN  MnPrv   \n2927       Reg          Lvl    AllPub  ...         0     NaN  MnPrv   \n2928       Reg          Lvl    AllPub  ...         0     NaN    NaN   \n2929       Reg          Lvl    AllPub  ...         0     NaN    NaN   \n\n     Misc Feature Misc Val Mo Sold Yr Sold  Sale Type  Sale Condition  \\\n0             NaN        0       5    2010        WD           Normal   \n1             NaN        0       6    2010        WD           Normal   \n2            Gar2    12500       6    2010        WD           Normal   \n3             NaN        0       4    2010        WD           Normal   \n4             NaN        0       3    2010        WD           Normal   \n...           ...      ...     ...     ...        ...             ...   \n2925          NaN        0       3    2006        WD           Normal   \n2926          NaN        0       6    2006        WD           Normal   \n2927         Shed      700       7    2006        WD           Normal   \n2928          NaN        0       4    2006        WD           Normal   \n2929          NaN        0      11    2006        WD           Normal   \n\n      SalePrice  \n0        215000  \n1        105000  \n2        172000  \n3        244000  \n4        189900  \n...         ...  \n2925     142500  \n2926     131000  \n2927     132000  \n2928     170000  \n2929     188000  \n\n[2930 rows x 81 columns]",
      "text/html": "<div>\n<style scoped>\n    .dataframe tbody tr th:only-of-type {\n        vertical-align: middle;\n    }\n\n    .dataframe tbody tr th {\n        vertical-align: top;\n    }\n\n    .dataframe thead th {\n        text-align: right;\n    }\n</style>\n<table border=\"1\" class=\"dataframe\">\n  <thead>\n    <tr style=\"text-align: right;\">\n      <th></th>\n      <th>PID</th>\n      <th>MS SubClass</th>\n      <th>MS Zoning</th>\n      <th>Lot Frontage</th>\n      <th>Lot Area</th>\n      <th>Street</th>\n      <th>Alley</th>\n      <th>Lot Shape</th>\n      <th>Land Contour</th>\n      <th>Utilities</th>\n      <th>...</th>\n      <th>Pool Area</th>\n      <th>Pool QC</th>\n      <th>Fence</th>\n      <th>Misc Feature</th>\n      <th>Misc Val</th>\n      <th>Mo Sold</th>\n      <th>Yr Sold</th>\n      <th>Sale Type</th>\n      <th>Sale Condition</th>\n      <th>SalePrice</th>\n    </tr>\n  </thead>\n  <tbody>\n    <tr>\n      <th>0</th>\n      <td>526301100</td>\n      <td>20</td>\n      <td>RL</td>\n      <td>141.0</td>\n      <td>31770</td>\n      <td>Pave</td>\n      <td>NaN</td>\n      <td>IR1</td>\n      <td>Lvl</td>\n      <td>AllPub</td>\n      <td>...</td>\n      <td>0</td>\n      <td>NaN</td>\n      <td>NaN</td>\n      <td>NaN</td>\n      <td>0</td>\n      <td>5</td>\n      <td>2010</td>\n      <td>WD</td>\n      <td>Normal</td>\n      <td>215000</td>\n    </tr>\n    <tr>\n      <th>1</th>\n      <td>526350040</td>\n      <td>20</td>\n      <td>RH</td>\n      <td>80.0</td>\n      <td>11622</td>\n      <td>Pave</td>\n      <td>NaN</td>\n      <td>Reg</td>\n      <td>Lvl</td>\n      <td>AllPub</td>\n      <td>...</td>\n      <td>0</td>\n      <td>NaN</td>\n      <td>MnPrv</td>\n      <td>NaN</td>\n      <td>0</td>\n      <td>6</td>\n      <td>2010</td>\n      <td>WD</td>\n      <td>Normal</td>\n      <td>105000</td>\n    </tr>\n    <tr>\n      <th>2</th>\n      <td>526351010</td>\n      <td>20</td>\n      <td>RL</td>\n      <td>81.0</td>\n      <td>14267</td>\n      <td>Pave</td>\n      <td>NaN</td>\n      <td>IR1</td>\n      <td>Lvl</td>\n      <td>AllPub</td>\n      <td>...</td>\n      <td>0</td>\n      <td>NaN</td>\n      <td>NaN</td>\n      <td>Gar2</td>\n      <td>12500</td>\n      <td>6</td>\n      <td>2010</td>\n      <td>WD</td>\n      <td>Normal</td>\n      <td>172000</td>\n    </tr>\n    <tr>\n      <th>3</th>\n      <td>526353030</td>\n      <td>20</td>\n      <td>RL</td>\n      <td>93.0</td>\n      <td>11160</td>\n      <td>Pave</td>\n      <td>NaN</td>\n      <td>Reg</td>\n      <td>Lvl</td>\n      <td>AllPub</td>\n      <td>...</td>\n      <td>0</td>\n      <td>NaN</td>\n      <td>NaN</td>\n      <td>NaN</td>\n      <td>0</td>\n      <td>4</td>\n      <td>2010</td>\n      <td>WD</td>\n      <td>Normal</td>\n      <td>244000</td>\n    </tr>\n    <tr>\n      <th>4</th>\n      <td>527105010</td>\n      <td>60</td>\n      <td>RL</td>\n      <td>74.0</td>\n      <td>13830</td>\n      <td>Pave</td>\n      <td>NaN</td>\n      <td>IR1</td>\n      <td>Lvl</td>\n      <td>AllPub</td>\n      <td>...</td>\n      <td>0</td>\n      <td>NaN</td>\n      <td>MnPrv</td>\n      <td>NaN</td>\n      <td>0</td>\n      <td>3</td>\n      <td>2010</td>\n      <td>WD</td>\n      <td>Normal</td>\n      <td>189900</td>\n    </tr>\n    <tr>\n      <th>...</th>\n      <td>...</td>\n      <td>...</td>\n      <td>...</td>\n      <td>...</td>\n      <td>...</td>\n      <td>...</td>\n      <td>...</td>\n      <td>...</td>\n      <td>...</td>\n      <td>...</td>\n      <td>...</td>\n      <td>...</td>\n      <td>...</td>\n      <td>...</td>\n      <td>...</td>\n      <td>...</td>\n      <td>...</td>\n      <td>...</td>\n      <td>...</td>\n      <td>...</td>\n      <td>...</td>\n    </tr>\n    <tr>\n      <th>2925</th>\n      <td>923275080</td>\n      <td>80</td>\n      <td>RL</td>\n      <td>37.0</td>\n      <td>7937</td>\n      <td>Pave</td>\n      <td>NaN</td>\n      <td>IR1</td>\n      <td>Lvl</td>\n      <td>AllPub</td>\n      <td>...</td>\n      <td>0</td>\n      <td>NaN</td>\n      <td>GdPrv</td>\n      <td>NaN</td>\n      <td>0</td>\n      <td>3</td>\n      <td>2006</td>\n      <td>WD</td>\n      <td>Normal</td>\n      <td>142500</td>\n    </tr>\n    <tr>\n      <th>2926</th>\n      <td>923276100</td>\n      <td>20</td>\n      <td>RL</td>\n      <td>NaN</td>\n      <td>8885</td>\n      <td>Pave</td>\n      <td>NaN</td>\n      <td>IR1</td>\n      <td>Low</td>\n      <td>AllPub</td>\n      <td>...</td>\n      <td>0</td>\n      <td>NaN</td>\n      <td>MnPrv</td>\n      <td>NaN</td>\n      <td>0</td>\n      <td>6</td>\n      <td>2006</td>\n      <td>WD</td>\n      <td>Normal</td>\n      <td>131000</td>\n    </tr>\n    <tr>\n      <th>2927</th>\n      <td>923400125</td>\n      <td>85</td>\n      <td>RL</td>\n      <td>62.0</td>\n      <td>10441</td>\n      <td>Pave</td>\n      <td>NaN</td>\n      <td>Reg</td>\n      <td>Lvl</td>\n      <td>AllPub</td>\n      <td>...</td>\n      <td>0</td>\n      <td>NaN</td>\n      <td>MnPrv</td>\n      <td>Shed</td>\n      <td>700</td>\n      <td>7</td>\n      <td>2006</td>\n      <td>WD</td>\n      <td>Normal</td>\n      <td>132000</td>\n    </tr>\n    <tr>\n      <th>2928</th>\n      <td>924100070</td>\n      <td>20</td>\n      <td>RL</td>\n      <td>77.0</td>\n      <td>10010</td>\n      <td>Pave</td>\n      <td>NaN</td>\n      <td>Reg</td>\n      <td>Lvl</td>\n      <td>AllPub</td>\n      <td>...</td>\n      <td>0</td>\n      <td>NaN</td>\n      <td>NaN</td>\n      <td>NaN</td>\n      <td>0</td>\n      <td>4</td>\n      <td>2006</td>\n      <td>WD</td>\n      <td>Normal</td>\n      <td>170000</td>\n    </tr>\n    <tr>\n      <th>2929</th>\n      <td>924151050</td>\n      <td>60</td>\n      <td>RL</td>\n      <td>74.0</td>\n      <td>9627</td>\n      <td>Pave</td>\n      <td>NaN</td>\n      <td>Reg</td>\n      <td>Lvl</td>\n      <td>AllPub</td>\n      <td>...</td>\n      <td>0</td>\n      <td>NaN</td>\n      <td>NaN</td>\n      <td>NaN</td>\n      <td>0</td>\n      <td>11</td>\n      <td>2006</td>\n      <td>WD</td>\n      <td>Normal</td>\n      <td>188000</td>\n    </tr>\n  </tbody>\n</table>\n<p>2930 rows × 81 columns</p>\n</div>"
     },
     "execution_count": 74,
     "metadata": {},
     "output_type": "execute_result"
    }
   ],
   "source": [
    "df"
   ],
   "metadata": {
    "collapsed": false,
    "pycharm": {
     "name": "#%%\n"
    }
   }
  },
  {
   "cell_type": "markdown",
   "source": [
    "## Data cleaning"
   ],
   "metadata": {
    "collapsed": false,
    "pycharm": {
     "name": "#%% md\n"
    }
   }
  },
  {
   "cell_type": "code",
   "execution_count": 75,
   "outputs": [
    {
     "data": {
      "text/plain": "PID                 0\nMS SubClass         0\nMS Zoning           0\nLot Frontage      490\nLot Area            0\n                 ... \nMo Sold             0\nYr Sold             0\nSale Type           0\nSale Condition      0\nSalePrice           0\nLength: 81, dtype: int64"
     },
     "execution_count": 75,
     "metadata": {},
     "output_type": "execute_result"
    }
   ],
   "source": [
    "df.isna().sum()"
   ],
   "metadata": {
    "collapsed": false,
    "pycharm": {
     "name": "#%%\n"
    }
   }
  },
  {
   "cell_type": "code",
   "execution_count": 76,
   "outputs": [],
   "source": [
    "df = df.drop(['Pool QC', 'PID', '2nd Flr SF','Fence', 'Misc Feature', 'Fireplace Qu', 'Alley'], axis=1)\n"
   ],
   "metadata": {
    "collapsed": false,
    "pycharm": {
     "name": "#%%\n"
    }
   }
  },
  {
   "cell_type": "code",
   "execution_count": 77,
   "outputs": [],
   "source": [
    "df.dropna(inplace=True)"
   ],
   "metadata": {
    "collapsed": false,
    "pycharm": {
     "name": "#%%\n"
    }
   }
  },
  {
   "cell_type": "code",
   "execution_count": 78,
   "outputs": [
    {
     "data": {
      "text/plain": "MS SubClass       0\nMS Zoning         0\nLot Frontage      0\nLot Area          0\nStreet            0\n                 ..\nMo Sold           0\nYr Sold           0\nSale Type         0\nSale Condition    0\nSalePrice         0\nLength: 74, dtype: int64"
     },
     "execution_count": 78,
     "metadata": {},
     "output_type": "execute_result"
    }
   ],
   "source": [
    "df.isna().sum()"
   ],
   "metadata": {
    "collapsed": false,
    "pycharm": {
     "name": "#%%\n"
    }
   }
  },
  {
   "cell_type": "code",
   "execution_count": 79,
   "outputs": [
    {
     "data": {
      "text/plain": "       MS SubClass  Lot Frontage       Lot Area  Overall Qual  Overall Cond  \\\ncount  2218.000000   2218.000000    2218.000000   2218.000000   2218.000000   \nmean     56.654644     69.626240    9782.795311      6.221821      5.587015   \nstd      42.428148     23.342377    6521.082042      1.397669      1.063544   \nmin      20.000000     21.000000    1300.000000      2.000000      1.000000   \n25%      20.000000     59.000000    7382.000000      5.000000      5.000000   \n50%      50.000000     69.000000    9360.000000      6.000000      5.000000   \n75%      70.000000     80.000000   11309.500000      7.000000      6.000000   \nmax     190.000000    313.000000  215245.000000     10.000000      9.000000   \n\n        Year Built  Year Remod/Add  Mas Vnr Area  BsmtFin SF 1  BsmtFin SF 2  \\\ncount  2218.000000     2218.000000   2218.000000   2218.000000   2218.000000   \nmean   1972.275473     1985.190712    107.014427    450.664563     50.246619   \nstd      30.902415       21.043079    185.329729    466.422465    167.978906   \nmin    1879.000000     1950.000000      0.000000      0.000000      0.000000   \n25%    1953.000000     1966.000000      0.000000      0.000000      0.000000   \n50%    1975.000000     1994.000000      0.000000    375.000000      0.000000   \n75%    2003.000000     2005.000000    172.000000    737.750000      0.000000   \nmax    2010.000000     2010.000000   1600.000000   5644.000000   1474.000000   \n\n       ...  Wood Deck SF  Open Porch SF  Enclosed Porch   3Ssn Porch  \\\ncount  ...   2218.000000    2218.000000     2218.000000  2218.000000   \nmean   ...     94.125789      47.884581       22.761497     2.495942   \nstd    ...    122.885236      66.177896       64.252226    25.242017   \nmin    ...      0.000000       0.000000        0.000000     0.000000   \n25%    ...      0.000000       0.000000        0.000000     0.000000   \n50%    ...      0.000000      28.000000        0.000000     0.000000   \n75%    ...    168.000000      70.000000        0.000000     0.000000   \nmax    ...    870.000000     570.000000     1012.000000   508.000000   \n\n       Screen Porch    Pool Area      Misc Val      Mo Sold     Yr Sold  \\\ncount   2218.000000  2218.000000   2218.000000  2218.000000  2218.00000   \nmean      17.045987     2.377818     43.516231     6.224527  2007.77908   \nstd       57.636267    35.881511    516.872599     2.725627     1.32492   \nmin        0.000000     0.000000      0.000000     1.000000  2006.00000   \n25%        0.000000     0.000000      0.000000     4.000000  2007.00000   \n50%        0.000000     0.000000      0.000000     6.000000  2008.00000   \n75%        0.000000     0.000000      0.000000     8.000000  2009.00000   \nmax      576.000000   800.000000  17000.000000    12.000000  2010.00000   \n\n           SalePrice  \ncount    2218.000000  \nmean   186051.732191  \nstd     83428.752016  \nmin     12789.000000  \n25%    131500.000000  \n50%    163500.000000  \n75%    217500.000000  \nmax    755000.000000  \n\n[8 rows x 36 columns]",
      "text/html": "<div>\n<style scoped>\n    .dataframe tbody tr th:only-of-type {\n        vertical-align: middle;\n    }\n\n    .dataframe tbody tr th {\n        vertical-align: top;\n    }\n\n    .dataframe thead th {\n        text-align: right;\n    }\n</style>\n<table border=\"1\" class=\"dataframe\">\n  <thead>\n    <tr style=\"text-align: right;\">\n      <th></th>\n      <th>MS SubClass</th>\n      <th>Lot Frontage</th>\n      <th>Lot Area</th>\n      <th>Overall Qual</th>\n      <th>Overall Cond</th>\n      <th>Year Built</th>\n      <th>Year Remod/Add</th>\n      <th>Mas Vnr Area</th>\n      <th>BsmtFin SF 1</th>\n      <th>BsmtFin SF 2</th>\n      <th>...</th>\n      <th>Wood Deck SF</th>\n      <th>Open Porch SF</th>\n      <th>Enclosed Porch</th>\n      <th>3Ssn Porch</th>\n      <th>Screen Porch</th>\n      <th>Pool Area</th>\n      <th>Misc Val</th>\n      <th>Mo Sold</th>\n      <th>Yr Sold</th>\n      <th>SalePrice</th>\n    </tr>\n  </thead>\n  <tbody>\n    <tr>\n      <th>count</th>\n      <td>2218.000000</td>\n      <td>2218.000000</td>\n      <td>2218.000000</td>\n      <td>2218.000000</td>\n      <td>2218.000000</td>\n      <td>2218.000000</td>\n      <td>2218.000000</td>\n      <td>2218.000000</td>\n      <td>2218.000000</td>\n      <td>2218.000000</td>\n      <td>...</td>\n      <td>2218.000000</td>\n      <td>2218.000000</td>\n      <td>2218.000000</td>\n      <td>2218.000000</td>\n      <td>2218.000000</td>\n      <td>2218.000000</td>\n      <td>2218.000000</td>\n      <td>2218.000000</td>\n      <td>2218.00000</td>\n      <td>2218.000000</td>\n    </tr>\n    <tr>\n      <th>mean</th>\n      <td>56.654644</td>\n      <td>69.626240</td>\n      <td>9782.795311</td>\n      <td>6.221821</td>\n      <td>5.587015</td>\n      <td>1972.275473</td>\n      <td>1985.190712</td>\n      <td>107.014427</td>\n      <td>450.664563</td>\n      <td>50.246619</td>\n      <td>...</td>\n      <td>94.125789</td>\n      <td>47.884581</td>\n      <td>22.761497</td>\n      <td>2.495942</td>\n      <td>17.045987</td>\n      <td>2.377818</td>\n      <td>43.516231</td>\n      <td>6.224527</td>\n      <td>2007.77908</td>\n      <td>186051.732191</td>\n    </tr>\n    <tr>\n      <th>std</th>\n      <td>42.428148</td>\n      <td>23.342377</td>\n      <td>6521.082042</td>\n      <td>1.397669</td>\n      <td>1.063544</td>\n      <td>30.902415</td>\n      <td>21.043079</td>\n      <td>185.329729</td>\n      <td>466.422465</td>\n      <td>167.978906</td>\n      <td>...</td>\n      <td>122.885236</td>\n      <td>66.177896</td>\n      <td>64.252226</td>\n      <td>25.242017</td>\n      <td>57.636267</td>\n      <td>35.881511</td>\n      <td>516.872599</td>\n      <td>2.725627</td>\n      <td>1.32492</td>\n      <td>83428.752016</td>\n    </tr>\n    <tr>\n      <th>min</th>\n      <td>20.000000</td>\n      <td>21.000000</td>\n      <td>1300.000000</td>\n      <td>2.000000</td>\n      <td>1.000000</td>\n      <td>1879.000000</td>\n      <td>1950.000000</td>\n      <td>0.000000</td>\n      <td>0.000000</td>\n      <td>0.000000</td>\n      <td>...</td>\n      <td>0.000000</td>\n      <td>0.000000</td>\n      <td>0.000000</td>\n      <td>0.000000</td>\n      <td>0.000000</td>\n      <td>0.000000</td>\n      <td>0.000000</td>\n      <td>1.000000</td>\n      <td>2006.00000</td>\n      <td>12789.000000</td>\n    </tr>\n    <tr>\n      <th>25%</th>\n      <td>20.000000</td>\n      <td>59.000000</td>\n      <td>7382.000000</td>\n      <td>5.000000</td>\n      <td>5.000000</td>\n      <td>1953.000000</td>\n      <td>1966.000000</td>\n      <td>0.000000</td>\n      <td>0.000000</td>\n      <td>0.000000</td>\n      <td>...</td>\n      <td>0.000000</td>\n      <td>0.000000</td>\n      <td>0.000000</td>\n      <td>0.000000</td>\n      <td>0.000000</td>\n      <td>0.000000</td>\n      <td>0.000000</td>\n      <td>4.000000</td>\n      <td>2007.00000</td>\n      <td>131500.000000</td>\n    </tr>\n    <tr>\n      <th>50%</th>\n      <td>50.000000</td>\n      <td>69.000000</td>\n      <td>9360.000000</td>\n      <td>6.000000</td>\n      <td>5.000000</td>\n      <td>1975.000000</td>\n      <td>1994.000000</td>\n      <td>0.000000</td>\n      <td>375.000000</td>\n      <td>0.000000</td>\n      <td>...</td>\n      <td>0.000000</td>\n      <td>28.000000</td>\n      <td>0.000000</td>\n      <td>0.000000</td>\n      <td>0.000000</td>\n      <td>0.000000</td>\n      <td>0.000000</td>\n      <td>6.000000</td>\n      <td>2008.00000</td>\n      <td>163500.000000</td>\n    </tr>\n    <tr>\n      <th>75%</th>\n      <td>70.000000</td>\n      <td>80.000000</td>\n      <td>11309.500000</td>\n      <td>7.000000</td>\n      <td>6.000000</td>\n      <td>2003.000000</td>\n      <td>2005.000000</td>\n      <td>172.000000</td>\n      <td>737.750000</td>\n      <td>0.000000</td>\n      <td>...</td>\n      <td>168.000000</td>\n      <td>70.000000</td>\n      <td>0.000000</td>\n      <td>0.000000</td>\n      <td>0.000000</td>\n      <td>0.000000</td>\n      <td>0.000000</td>\n      <td>8.000000</td>\n      <td>2009.00000</td>\n      <td>217500.000000</td>\n    </tr>\n    <tr>\n      <th>max</th>\n      <td>190.000000</td>\n      <td>313.000000</td>\n      <td>215245.000000</td>\n      <td>10.000000</td>\n      <td>9.000000</td>\n      <td>2010.000000</td>\n      <td>2010.000000</td>\n      <td>1600.000000</td>\n      <td>5644.000000</td>\n      <td>1474.000000</td>\n      <td>...</td>\n      <td>870.000000</td>\n      <td>570.000000</td>\n      <td>1012.000000</td>\n      <td>508.000000</td>\n      <td>576.000000</td>\n      <td>800.000000</td>\n      <td>17000.000000</td>\n      <td>12.000000</td>\n      <td>2010.00000</td>\n      <td>755000.000000</td>\n    </tr>\n  </tbody>\n</table>\n<p>8 rows × 36 columns</p>\n</div>"
     },
     "execution_count": 79,
     "metadata": {},
     "output_type": "execute_result"
    }
   ],
   "source": [
    "df.describe()"
   ],
   "metadata": {
    "collapsed": false,
    "pycharm": {
     "name": "#%%\n"
    }
   }
  },
  {
   "cell_type": "code",
   "execution_count": 80,
   "outputs": [
    {
     "data": {
      "text/plain": "<AxesSubplot:xlabel='Roof Style', ylabel='SalePrice'>"
     },
     "execution_count": 80,
     "metadata": {},
     "output_type": "execute_result"
    },
    {
     "data": {
      "text/plain": "<Figure size 432x288 with 1 Axes>",
      "image/png": "[encoded data removed]"
     },
     "metadata": {},
     "output_type": "display_data"
    }
   ],
   "source": [
    "sns.barplot(x='Roof Style',y='SalePrice',data=df)"
   ],
   "metadata": {
    "collapsed": false,
    "pycharm": {
     "name": "#%%\n"
    }
   }
  },
  {
   "cell_type": "code",
   "execution_count": 81,
   "outputs": [
    {
     "data": {
      "text/plain": "      MS SubClass MS Zoning  Lot Frontage  Lot Area Street Lot Shape  \\\n0              20        RL         141.0     31770   Pave       IR1   \n1              20        RH          80.0     11622   Pave       Reg   \n2              20        RL          81.0     14267   Pave       IR1   \n3              20        RL          93.0     11160   Pave       Reg   \n4              60        RL          74.0     13830   Pave       IR1   \n...           ...       ...           ...       ...    ...       ...   \n2923           20        RL          80.0     17400   Pave       Reg   \n2924           20        RL         160.0     20000   Pave       Reg   \n2925           80        RL          37.0      7937   Pave       IR1   \n2928           20        RL          77.0     10010   Pave       Reg   \n2929           60        RL          74.0      9627   Pave       Reg   \n\n     Land Contour Utilities Lot Config Land Slope  ... Enclosed Porch  \\\n0             Lvl    AllPub     Corner        Gtl  ...              0   \n1             Lvl    AllPub     Inside        Gtl  ...              0   \n2             Lvl    AllPub     Corner        Gtl  ...              0   \n3             Lvl    AllPub     Corner        Gtl  ...              0   \n4             Lvl    AllPub     Inside        Gtl  ...              0   \n...           ...       ...        ...        ...  ...            ...   \n2923          Low    AllPub     Inside        Mod  ...              0   \n2924          Lvl    AllPub     Inside        Gtl  ...              0   \n2925          Lvl    AllPub    CulDSac        Gtl  ...              0   \n2928          Lvl    AllPub     Inside        Mod  ...              0   \n2929          Lvl    AllPub     Inside        Mod  ...              0   \n\n     3Ssn Porch Screen Porch Pool Area Misc Val  Mo Sold  Yr Sold  Sale Type  \\\n0             0            0         0        0        5     2010        WD    \n1             0          120         0        0        6     2010        WD    \n2             0            0         0    12500        6     2010        WD    \n3             0            0         0        0        4     2010        WD    \n4             0            0         0        0        3     2010        WD    \n...         ...          ...       ...      ...      ...      ...        ...   \n2923          0            0         0        0        5     2006        WD    \n2924          0            0         0        0        9     2006        WD    \n2925          0            0         0        0        3     2006        WD    \n2928          0            0         0        0        4     2006        WD    \n2929          0            0         0        0       11     2006        WD    \n\n      Sale Condition SalePrice  \n0             Normal    215000  \n1             Normal    105000  \n2             Normal    172000  \n3             Normal    244000  \n4             Normal    189900  \n...              ...       ...  \n2923          Normal    160000  \n2924         Abnorml    131000  \n2925          Normal    142500  \n2928          Normal    170000  \n2929          Normal    188000  \n\n[2218 rows x 74 columns]",
      "text/html": "<div>\n<style scoped>\n    .dataframe tbody tr th:only-of-type {\n        vertical-align: middle;\n    }\n\n    .dataframe tbody tr th {\n        vertical-align: top;\n    }\n\n    .dataframe thead th {\n        text-align: right;\n    }\n</style>\n<table border=\"1\" class=\"dataframe\">\n  <thead>\n    <tr style=\"text-align: right;\">\n      <th></th>\n      <th>MS SubClass</th>\n      <th>MS Zoning</th>\n      <th>Lot Frontage</th>\n      <th>Lot Area</th>\n      <th>Street</th>\n      <th>Lot Shape</th>\n      <th>Land Contour</th>\n      <th>Utilities</th>\n      <th>Lot Config</th>\n      <th>Land Slope</th>\n      <th>...</th>\n      <th>Enclosed Porch</th>\n      <th>3Ssn Porch</th>\n      <th>Screen Porch</th>\n      <th>Pool Area</th>\n      <th>Misc Val</th>\n      <th>Mo Sold</th>\n      <th>Yr Sold</th>\n      <th>Sale Type</th>\n      <th>Sale Condition</th>\n      <th>SalePrice</th>\n    </tr>\n  </thead>\n  <tbody>\n    <tr>\n      <th>0</th>\n      <td>20</td>\n      <td>RL</td>\n      <td>141.0</td>\n      <td>31770</td>\n      <td>Pave</td>\n      <td>IR1</td>\n      <td>Lvl</td>\n      <td>AllPub</td>\n      <td>Corner</td>\n      <td>Gtl</td>\n      <td>...</td>\n      <td>0</td>\n      <td>0</td>\n      <td>0</td>\n      <td>0</td>\n      <td>0</td>\n      <td>5</td>\n      <td>2010</td>\n      <td>WD</td>\n      <td>Normal</td>\n      <td>215000</td>\n    </tr>\n    <tr>\n      <th>1</th>\n      <td>20</td>\n      <td>RH</td>\n      <td>80.0</td>\n      <td>11622</td>\n      <td>Pave</td>\n      <td>Reg</td>\n      <td>Lvl</td>\n      <td>AllPub</td>\n      <td>Inside</td>\n      <td>Gtl</td>\n      <td>...</td>\n      <td>0</td>\n      <td>0</td>\n      <td>120</td>\n      <td>0</td>\n      <td>0</td>\n      <td>6</td>\n      <td>2010</td>\n      <td>WD</td>\n      <td>Normal</td>\n      <td>105000</td>\n    </tr>\n    <tr>\n      <th>2</th>\n      <td>20</td>\n      <td>RL</td>\n      <td>81.0</td>\n      <td>14267</td>\n      <td>Pave</td>\n      <td>IR1</td>\n      <td>Lvl</td>\n      <td>AllPub</td>\n      <td>Corner</td>\n      <td>Gtl</td>\n      <td>...</td>\n      <td>0</td>\n      <td>0</td>\n      <td>0</td>\n      <td>0</td>\n      <td>12500</td>\n      <td>6</td>\n      <td>2010</td>\n      <td>WD</td>\n      <td>Normal</td>\n      <td>172000</td>\n    </tr>\n    <tr>\n      <th>3</th>\n      <td>20</td>\n      <td>RL</td>\n      <td>93.0</td>\n      <td>11160</td>\n      <td>Pave</td>\n      <td>Reg</td>\n      <td>Lvl</td>\n      <td>AllPub</td>\n      <td>Corner</td>\n      <td>Gtl</td>\n      <td>...</td>\n      <td>0</td>\n      <td>0</td>\n      <td>0</td>\n      <td>0</td>\n      <td>0</td>\n      <td>4</td>\n      <td>2010</td>\n      <td>WD</td>\n      <td>Normal</td>\n      <td>244000</td>\n    </tr>\n    <tr>\n      <th>4</th>\n      <td>60</td>\n      <td>RL</td>\n      <td>74.0</td>\n      <td>13830</td>\n      <td>Pave</td>\n      <td>IR1</td>\n      <td>Lvl</td>\n      <td>AllPub</td>\n      <td>Inside</td>\n      <td>Gtl</td>\n      <td>...</td>\n      <td>0</td>\n      <td>0</td>\n      <td>0</td>\n      <td>0</td>\n      <td>0</td>\n      <td>3</td>\n      <td>2010</td>\n      <td>WD</td>\n      <td>Normal</td>\n      <td>189900</td>\n    </tr>\n    <tr>\n      <th>...</th>\n      <td>...</td>\n      <td>...</td>\n      <td>...</td>\n      <td>...</td>\n      <td>...</td>\n      <td>...</td>\n      <td>...</td>\n      <td>...</td>\n      <td>...</td>\n      <td>...</td>\n      <td>...</td>\n      <td>...</td>\n      <td>...</td>\n      <td>...</td>\n      <td>...</td>\n      <td>...</td>\n      <td>...</td>\n      <td>...</td>\n      <td>...</td>\n      <td>...</td>\n      <td>...</td>\n    </tr>\n    <tr>\n      <th>2923</th>\n      <td>20</td>\n      <td>RL</td>\n      <td>80.0</td>\n      <td>17400</td>\n      <td>Pave</td>\n      <td>Reg</td>\n      <td>Low</td>\n      <td>AllPub</td>\n      <td>Inside</td>\n      <td>Mod</td>\n      <td>...</td>\n      <td>0</td>\n      <td>0</td>\n      <td>0</td>\n      <td>0</td>\n      <td>0</td>\n      <td>5</td>\n      <td>2006</td>\n      <td>WD</td>\n      <td>Normal</td>\n      <td>160000</td>\n    </tr>\n    <tr>\n      <th>2924</th>\n      <td>20</td>\n      <td>RL</td>\n      <td>160.0</td>\n      <td>20000</td>\n      <td>Pave</td>\n      <td>Reg</td>\n      <td>Lvl</td>\n      <td>AllPub</td>\n      <td>Inside</td>\n      <td>Gtl</td>\n      <td>...</td>\n      <td>0</td>\n      <td>0</td>\n      <td>0</td>\n      <td>0</td>\n      <td>0</td>\n      <td>9</td>\n      <td>2006</td>\n      <td>WD</td>\n      <td>Abnorml</td>\n      <td>131000</td>\n    </tr>\n    <tr>\n      <th>2925</th>\n      <td>80</td>\n      <td>RL</td>\n      <td>37.0</td>\n      <td>7937</td>\n      <td>Pave</td>\n      <td>IR1</td>\n      <td>Lvl</td>\n      <td>AllPub</td>\n      <td>CulDSac</td>\n      <td>Gtl</td>\n      <td>...</td>\n      <td>0</td>\n      <td>0</td>\n      <td>0</td>\n      <td>0</td>\n      <td>0</td>\n      <td>3</td>\n      <td>2006</td>\n      <td>WD</td>\n      <td>Normal</td>\n      <td>142500</td>\n    </tr>\n    <tr>\n      <th>2928</th>\n      <td>20</td>\n      <td>RL</td>\n      <td>77.0</td>\n      <td>10010</td>\n      <td>Pave</td>\n      <td>Reg</td>\n      <td>Lvl</td>\n      <td>AllPub</td>\n      <td>Inside</td>\n      <td>Mod</td>\n      <td>...</td>\n      <td>0</td>\n      <td>0</td>\n      <td>0</td>\n      <td>0</td>\n      <td>0</td>\n      <td>4</td>\n      <td>2006</td>\n      <td>WD</td>\n      <td>Normal</td>\n      <td>170000</td>\n    </tr>\n    <tr>\n      <th>2929</th>\n      <td>60</td>\n      <td>RL</td>\n      <td>74.0</td>\n      <td>9627</td>\n      <td>Pave</td>\n      <td>Reg</td>\n      <td>Lvl</td>\n      <td>AllPub</td>\n      <td>Inside</td>\n      <td>Mod</td>\n      <td>...</td>\n      <td>0</td>\n      <td>0</td>\n      <td>0</td>\n      <td>0</td>\n      <td>0</td>\n      <td>11</td>\n      <td>2006</td>\n      <td>WD</td>\n      <td>Normal</td>\n      <td>188000</td>\n    </tr>\n  </tbody>\n</table>\n<p>2218 rows × 74 columns</p>\n</div>"
     },
     "execution_count": 81,
     "metadata": {},
     "output_type": "execute_result"
    }
   ],
   "source": [
    "df\n"
   ],
   "metadata": {
    "collapsed": false,
    "pycharm": {
     "name": "#%%\n"
    }
   }
  },
  {
   "cell_type": "markdown",
   "source": [
    "## Data Preprocessing"
   ],
   "metadata": {
    "collapsed": false,
    "pycharm": {
     "name": "#%% md\n"
    }
   }
  },
  {
   "cell_type": "code",
   "execution_count": 82,
   "outputs": [
    {
     "data": {
      "text/plain": "Index(['MS SubClass', 'MS Zoning', 'Lot Frontage', 'Lot Area', 'Street',\n       'Lot Shape', 'Land Contour', 'Utilities', 'Lot Config', 'Land Slope',\n       'Neighborhood', 'Condition 1', 'Condition 2', 'Bldg Type',\n       'House Style', 'Overall Qual', 'Overall Cond', 'Year Built',\n       'Year Remod/Add', 'Roof Style', 'Roof Matl', 'Exterior 1st',\n       'Exterior 2nd', 'Mas Vnr Type', 'Mas Vnr Area', 'Exter Qual',\n       'Exter Cond', 'Foundation', 'Bsmt Qual', 'Bsmt Cond', 'Bsmt Exposure',\n       'BsmtFin Type 1', 'BsmtFin SF 1', 'BsmtFin Type 2', 'BsmtFin SF 2',\n       'Bsmt Unf SF', 'Total Bsmt SF', 'Heating', 'Heating QC', 'Central Air',\n       'Electrical', '1st Flr SF', 'Low Qual Fin SF', 'Gr Liv Area',\n       'Bsmt Full Bath', 'Bsmt Half Bath', 'Full Bath', 'Half Bath',\n       'Bedroom AbvGr', 'Kitchen AbvGr', 'Kitchen Qual', 'TotRms AbvGrd',\n       'Functional', 'Fireplaces', 'Garage Type', 'Garage Yr Blt',\n       'Garage Finish', 'Garage Cars', 'Garage Area', 'Garage Qual',\n       'Garage Cond', 'Paved Drive', 'Wood Deck SF', 'Open Porch SF',\n       'Enclosed Porch', '3Ssn Porch', 'Screen Porch', 'Pool Area', 'Misc Val',\n       'Mo Sold', 'Yr Sold', 'Sale Type', 'Sale Condition', 'SalePrice'],\n      dtype='object')"
     },
     "execution_count": 82,
     "metadata": {},
     "output_type": "execute_result"
    }
   ],
   "source": [
    "df.columns"
   ],
   "metadata": {
    "collapsed": false,
    "pycharm": {
     "name": "#%%\n"
    }
   }
  },
  {
   "cell_type": "code",
   "execution_count": 83,
   "outputs": [],
   "source": [
    "df = pd.get_dummies(df, columns=['MS Zoning', 'Street', 'Lot Shape', 'Land Contour', 'Utilities', 'Lot Config', 'Land Slope', 'Neighborhood', 'Condition 1', 'Condition 2', 'Bldg Type', 'House Style', 'Roof Style', 'Roof Matl', 'Exterior 1st', 'Exterior 2nd', 'Mas Vnr Type', 'Exter Qual', 'Exter Cond', 'Foundation', 'Bsmt Qual', 'Bsmt Cond', 'Bsmt Exposure', 'BsmtFin Type 1', 'BsmtFin Type 2', 'Heating', 'Heating QC', 'Central Air', 'Electrical', 'Functional', 'Kitchen Qual', 'Garage Type', 'Garage Finish', 'Garage Qual', 'Garage Cond', 'Paved Drive', 'Sale Type', 'Sale Condition'])\n",
    "\n"
   ],
   "metadata": {
    "collapsed": false,
    "pycharm": {
     "name": "#%%\n"
    }
   }
  },
  {
   "cell_type": "code",
   "execution_count": 84,
   "outputs": [
    {
     "data": {
      "text/plain": "      MS SubClass  Lot Frontage  Lot Area  Overall Qual  Overall Cond  \\\n0              20         141.0     31770             6             5   \n1              20          80.0     11622             5             6   \n2              20          81.0     14267             6             6   \n3              20          93.0     11160             7             5   \n4              60          74.0     13830             5             5   \n...           ...           ...       ...           ...           ...   \n2923           20          80.0     17400             5             5   \n2924           20         160.0     20000             5             7   \n2925           80          37.0      7937             6             6   \n2928           20          77.0     10010             5             5   \n2929           60          74.0      9627             7             5   \n\n      Year Built  Year Remod/Add  Mas Vnr Area  BsmtFin SF 1  BsmtFin SF 2  \\\n0           1960            1960         112.0         639.0           0.0   \n1           1961            1961           0.0         468.0         144.0   \n2           1958            1958         108.0         923.0           0.0   \n3           1968            1968           0.0        1065.0           0.0   \n4           1997            1998           0.0         791.0           0.0   \n...          ...             ...           ...           ...           ...   \n2923        1977            1977           0.0         936.0           0.0   \n2924        1960            1996           0.0        1224.0           0.0   \n2925        1984            1984           0.0         819.0           0.0   \n2928        1974            1975           0.0        1071.0         123.0   \n2929        1993            1994          94.0         758.0           0.0   \n\n      ...  Sale Type_New  Sale Type_Oth  Sale Type_VWD  Sale Type_WD   \\\n0     ...              0              0              0              1   \n1     ...              0              0              0              1   \n2     ...              0              0              0              1   \n3     ...              0              0              0              1   \n4     ...              0              0              0              1   \n...   ...            ...            ...            ...            ...   \n2923  ...              0              0              0              1   \n2924  ...              0              0              0              1   \n2925  ...              0              0              0              1   \n2928  ...              0              0              0              1   \n2929  ...              0              0              0              1   \n\n      Sale Condition_Abnorml  Sale Condition_AdjLand  Sale Condition_Alloca  \\\n0                          0                       0                      0   \n1                          0                       0                      0   \n2                          0                       0                      0   \n3                          0                       0                      0   \n4                          0                       0                      0   \n...                      ...                     ...                    ...   \n2923                       0                       0                      0   \n2924                       1                       0                      0   \n2925                       0                       0                      0   \n2928                       0                       0                      0   \n2929                       0                       0                      0   \n\n      Sale Condition_Family  Sale Condition_Normal  Sale Condition_Partial  \n0                         0                      1                       0  \n1                         0                      1                       0  \n2                         0                      1                       0  \n3                         0                      1                       0  \n4                         0                      1                       0  \n...                     ...                    ...                     ...  \n2923                      0                      1                       0  \n2924                      0                      0                       0  \n2925                      0                      1                       0  \n2928                      0                      1                       0  \n2929                      0                      1                       0  \n\n[2218 rows x 268 columns]",
      "text/html": "<div>\n<style scoped>\n    .dataframe tbody tr th:only-of-type {\n        vertical-align: middle;\n    }\n\n    .dataframe tbody tr th {\n        vertical-align: top;\n    }\n\n    .dataframe thead th {\n        text-align: right;\n    }\n</style>\n<table border=\"1\" class=\"dataframe\">\n  <thead>\n    <tr style=\"text-align: right;\">\n      <th></th>\n      <th>MS SubClass</th>\n      <th>Lot Frontage</th>\n      <th>Lot Area</th>\n      <th>Overall Qual</th>\n      <th>Overall Cond</th>\n      <th>Year Built</th>\n      <th>Year Remod/Add</th>\n      <th>Mas Vnr Area</th>\n      <th>BsmtFin SF 1</th>\n      <th>BsmtFin SF 2</th>\n      <th>...</th>\n      <th>Sale Type_New</th>\n      <th>Sale Type_Oth</th>\n      <th>Sale Type_VWD</th>\n      <th>Sale Type_WD</th>\n      <th>Sale Condition_Abnorml</th>\n      <th>Sale Condition_AdjLand</th>\n      <th>Sale Condition_Alloca</th>\n      <th>Sale Condition_Family</th>\n      <th>Sale Condition_Normal</th>\n      <th>Sale Condition_Partial</th>\n    </tr>\n  </thead>\n  <tbody>\n    <tr>\n      <th>0</th>\n      <td>20</td>\n      <td>141.0</td>\n      <td>31770</td>\n      <td>6</td>\n      <td>5</td>\n      <td>1960</td>\n      <td>1960</td>\n      <td>112.0</td>\n      <td>639.0</td>\n      <td>0.0</td>\n      <td>...</td>\n      <td>0</td>\n      <td>0</td>\n      <td>0</td>\n      <td>1</td>\n      <td>0</td>\n      <td>0</td>\n      <td>0</td>\n      <td>0</td>\n      <td>1</td>\n      <td>0</td>\n    </tr>\n    <tr>\n      <th>1</th>\n      <td>20</td>\n      <td>80.0</td>\n      <td>11622</td>\n      <td>5</td>\n      <td>6</td>\n      <td>1961</td>\n      <td>1961</td>\n      <td>0.0</td>\n      <td>468.0</td>\n      <td>144.0</td>\n      <td>...</td>\n      <td>0</td>\n      <td>0</td>\n      <td>0</td>\n      <td>1</td>\n      <td>0</td>\n      <td>0</td>\n      <td>0</td>\n      <td>0</td>\n      <td>1</td>\n      <td>0</td>\n    </tr>\n    <tr>\n      <th>2</th>\n      <td>20</td>\n      <td>81.0</td>\n      <td>14267</td>\n      <td>6</td>\n      <td>6</td>\n      <td>1958</td>\n      <td>1958</td>\n      <td>108.0</td>\n      <td>923.0</td>\n      <td>0.0</td>\n      <td>...</td>\n      <td>0</td>\n      <td>0</td>\n      <td>0</td>\n      <td>1</td>\n      <td>0</td>\n      <td>0</td>\n      <td>0</td>\n      <td>0</td>\n      <td>1</td>\n      <td>0</td>\n    </tr>\n    <tr>\n      <th>3</th>\n      <td>20</td>\n      <td>93.0</td>\n      <td>11160</td>\n      <td>7</td>\n      <td>5</td>\n      <td>1968</td>\n      <td>1968</td>\n      <td>0.0</td>\n      <td>1065.0</td>\n      <td>0.0</td>\n      <td>...</td>\n      <td>0</td>\n      <td>0</td>\n      <td>0</td>\n      <td>1</td>\n      <td>0</td>\n      <td>0</td>\n      <td>0</td>\n      <td>0</td>\n      <td>1</td>\n      <td>0</td>\n    </tr>\n    <tr>\n      <th>4</th>\n      <td>60</td>\n      <td>74.0</td>\n      <td>13830</td>\n      <td>5</td>\n      <td>5</td>\n      <td>1997</td>\n      <td>1998</td>\n      <td>0.0</td>\n      <td>791.0</td>\n      <td>0.0</td>\n      <td>...</td>\n      <td>0</td>\n      <td>0</td>\n      <td>0</td>\n      <td>1</td>\n      <td>0</td>\n      <td>0</td>\n      <td>0</td>\n      <td>0</td>\n      <td>1</td>\n      <td>0</td>\n    </tr>\n    <tr>\n      <th>...</th>\n      <td>...</td>\n      <td>...</td>\n      <td>...</td>\n      <td>...</td>\n      <td>...</td>\n      <td>...</td>\n      <td>...</td>\n      <td>...</td>\n      <td>...</td>\n      <td>...</td>\n      <td>...</td>\n      <td>...</td>\n      <td>...</td>\n      <td>...</td>\n      <td>...</td>\n      <td>...</td>\n      <td>...</td>\n      <td>...</td>\n      <td>...</td>\n      <td>...</td>\n      <td>...</td>\n    </tr>\n    <tr>\n      <th>2923</th>\n      <td>20</td>\n      <td>80.0</td>\n      <td>17400</td>\n      <td>5</td>\n      <td>5</td>\n      <td>1977</td>\n      <td>1977</td>\n      <td>0.0</td>\n      <td>936.0</td>\n      <td>0.0</td>\n      <td>...</td>\n      <td>0</td>\n      <td>0</td>\n      <td>0</td>\n      <td>1</td>\n      <td>0</td>\n      <td>0</td>\n      <td>0</td>\n      <td>0</td>\n      <td>1</td>\n      <td>0</td>\n    </tr>\n    <tr>\n      <th>2924</th>\n      <td>20</td>\n      <td>160.0</td>\n      <td>20000</td>\n      <td>5</td>\n      <td>7</td>\n      <td>1960</td>\n      <td>1996</td>\n      <td>0.0</td>\n      <td>1224.0</td>\n      <td>0.0</td>\n      <td>...</td>\n      <td>0</td>\n      <td>0</td>\n      <td>0</td>\n      <td>1</td>\n      <td>1</td>\n      <td>0</td>\n      <td>0</td>\n      <td>0</td>\n      <td>0</td>\n      <td>0</td>\n    </tr>\n    <tr>\n      <th>2925</th>\n      <td>80</td>\n      <td>37.0</td>\n      <td>7937</td>\n      <td>6</td>\n      <td>6</td>\n      <td>1984</td>\n      <td>1984</td>\n      <td>0.0</td>\n      <td>819.0</td>\n      <td>0.0</td>\n      <td>...</td>\n      <td>0</td>\n      <td>0</td>\n      <td>0</td>\n      <td>1</td>\n      <td>0</td>\n      <td>0</td>\n      <td>0</td>\n      <td>0</td>\n      <td>1</td>\n      <td>0</td>\n    </tr>\n    <tr>\n      <th>2928</th>\n      <td>20</td>\n      <td>77.0</td>\n      <td>10010</td>\n      <td>5</td>\n      <td>5</td>\n      <td>1974</td>\n      <td>1975</td>\n      <td>0.0</td>\n      <td>1071.0</td>\n      <td>123.0</td>\n      <td>...</td>\n      <td>0</td>\n      <td>0</td>\n      <td>0</td>\n      <td>1</td>\n      <td>0</td>\n      <td>0</td>\n      <td>0</td>\n      <td>0</td>\n      <td>1</td>\n      <td>0</td>\n    </tr>\n    <tr>\n      <th>2929</th>\n      <td>60</td>\n      <td>74.0</td>\n      <td>9627</td>\n      <td>7</td>\n      <td>5</td>\n      <td>1993</td>\n      <td>1994</td>\n      <td>94.0</td>\n      <td>758.0</td>\n      <td>0.0</td>\n      <td>...</td>\n      <td>0</td>\n      <td>0</td>\n      <td>0</td>\n      <td>1</td>\n      <td>0</td>\n      <td>0</td>\n      <td>0</td>\n      <td>0</td>\n      <td>1</td>\n      <td>0</td>\n    </tr>\n  </tbody>\n</table>\n<p>2218 rows × 268 columns</p>\n</div>"
     },
     "execution_count": 84,
     "metadata": {},
     "output_type": "execute_result"
    }
   ],
   "source": [
    "df"
   ],
   "metadata": {
    "collapsed": false,
    "pycharm": {
     "name": "#%%\n"
    }
   }
  },
  {
   "cell_type": "code",
   "execution_count": 86,
   "outputs": [],
   "source": [
    "X = df.drop(['SalePrice'], axis = 1)\n",
    "y = df.SalePrice"
   ],
   "metadata": {
    "collapsed": false,
    "pycharm": {
     "name": "#%%\n"
    }
   }
  },
  {
   "cell_type": "code",
   "execution_count": 87,
   "outputs": [],
   "source": [
    "import pandas as pd\n",
    "import numpy as np\n",
    "\n",
    "skewed_features = X.apply(lambda x: x.skew()).sort_values(ascending=False)\n",
    "skewed_features = skewed_features[skewed_features > skew_threshold]\n",
    "\n",
    "# Apply the log transformation to the skewed features\n",
    "for feature in skewed_features.index:\n",
    "    X[feature] = np.log1p(X[feature])\n",
    "\n",
    "# Now, the skewed features have been transformed to reduce skewness\n"
   ],
   "metadata": {
    "collapsed": false,
    "pycharm": {
     "name": "#%%\n"
    }
   }
  },
  {
   "cell_type": "code",
   "execution_count": 88,
   "outputs": [
    {
     "data": {
      "text/plain": "      MS SubClass  Lot Frontage   Lot Area  Overall Qual  Overall Cond  \\\n0        3.044522      4.955827  10.366309             6      1.791759   \n1        3.044522      4.394449   9.360741             5      1.945910   \n2        3.044522      4.406719   9.565775             6      1.945910   \n3        3.044522      4.543295   9.320181             7      1.791759   \n4        4.110874      4.317488   9.534668             5      1.791759   \n...           ...           ...        ...           ...           ...   \n2923     3.044522      4.394449   9.764283             5      1.791759   \n2924     3.044522      5.081404   9.903538             5      2.079442   \n2925     4.394449      3.637586   8.979417             6      1.945910   \n2928     3.044522      4.356709   9.211440             5      1.791759   \n2929     4.110874      4.317488   9.172431             7      1.791759   \n\n      Year Built  Year Remod/Add  Mas Vnr Area  BsmtFin SF 1  BsmtFin SF 2  \\\n0           1960            1960      4.727388      6.461468      0.000000   \n1           1961            1961      0.000000      6.150603      4.976734   \n2           1958            1958      4.691348      6.828712      0.000000   \n3           1968            1968      0.000000      6.971669      0.000000   \n4           1997            1998      0.000000      6.674561      0.000000   \n...          ...             ...           ...           ...           ...   \n2923        1977            1977      0.000000      6.842683      0.000000   \n2924        1960            1996      0.000000      7.110696      0.000000   \n2925        1984            1984      0.000000      6.709304      0.000000   \n2928        1974            1975      0.000000      6.977281      4.820282   \n2929        1993            1994      4.553877      6.632002      0.000000   \n\n      ...  Sale Type_New  Sale Type_Oth  Sale Type_VWD  Sale Type_WD   \\\n0     ...            0.0            0.0            0.0              1   \n1     ...            0.0            0.0            0.0              1   \n2     ...            0.0            0.0            0.0              1   \n3     ...            0.0            0.0            0.0              1   \n4     ...            0.0            0.0            0.0              1   \n...   ...            ...            ...            ...            ...   \n2923  ...            0.0            0.0            0.0              1   \n2924  ...            0.0            0.0            0.0              1   \n2925  ...            0.0            0.0            0.0              1   \n2928  ...            0.0            0.0            0.0              1   \n2929  ...            0.0            0.0            0.0              1   \n\n      Sale Condition_Abnorml  Sale Condition_AdjLand  Sale Condition_Alloca  \\\n0                   0.000000                     0.0                    0.0   \n1                   0.000000                     0.0                    0.0   \n2                   0.000000                     0.0                    0.0   \n3                   0.000000                     0.0                    0.0   \n4                   0.000000                     0.0                    0.0   \n...                      ...                     ...                    ...   \n2923                0.000000                     0.0                    0.0   \n2924                0.693359                     0.0                    0.0   \n2925                0.000000                     0.0                    0.0   \n2928                0.000000                     0.0                    0.0   \n2929                0.000000                     0.0                    0.0   \n\n      Sale Condition_Family  Sale Condition_Normal  Sale Condition_Partial  \n0                       0.0                      1                     0.0  \n1                       0.0                      1                     0.0  \n2                       0.0                      1                     0.0  \n3                       0.0                      1                     0.0  \n4                       0.0                      1                     0.0  \n...                     ...                    ...                     ...  \n2923                    0.0                      1                     0.0  \n2924                    0.0                      0                     0.0  \n2925                    0.0                      1                     0.0  \n2928                    0.0                      1                     0.0  \n2929                    0.0                      1                     0.0  \n\n[2218 rows x 267 columns]",
      "text/html": "<div>\n<style scoped>\n    .dataframe tbody tr th:only-of-type {\n        vertical-align: middle;\n    }\n\n    .dataframe tbody tr th {\n        vertical-align: top;\n    }\n\n    .dataframe thead th {\n        text-align: right;\n    }\n</style>\n<table border=\"1\" class=\"dataframe\">\n  <thead>\n    <tr style=\"text-align: right;\">\n      <th></th>\n      <th>MS SubClass</th>\n      <th>Lot Frontage</th>\n      <th>Lot Area</th>\n      <th>Overall Qual</th>\n      <th>Overall Cond</th>\n      <th>Year Built</th>\n      <th>Year Remod/Add</th>\n      <th>Mas Vnr Area</th>\n      <th>BsmtFin SF 1</th>\n      <th>BsmtFin SF 2</th>\n      <th>...</th>\n      <th>Sale Type_New</th>\n      <th>Sale Type_Oth</th>\n      <th>Sale Type_VWD</th>\n      <th>Sale Type_WD</th>\n      <th>Sale Condition_Abnorml</th>\n      <th>Sale Condition_AdjLand</th>\n      <th>Sale Condition_Alloca</th>\n      <th>Sale Condition_Family</th>\n      <th>Sale Condition_Normal</th>\n      <th>Sale Condition_Partial</th>\n    </tr>\n  </thead>\n  <tbody>\n    <tr>\n      <th>0</th>\n      <td>3.044522</td>\n      <td>4.955827</td>\n      <td>10.366309</td>\n      <td>6</td>\n      <td>1.791759</td>\n      <td>1960</td>\n      <td>1960</td>\n      <td>4.727388</td>\n      <td>6.461468</td>\n      <td>0.000000</td>\n      <td>...</td>\n      <td>0.0</td>\n      <td>0.0</td>\n      <td>0.0</td>\n      <td>1</td>\n      <td>0.000000</td>\n      <td>0.0</td>\n      <td>0.0</td>\n      <td>0.0</td>\n      <td>1</td>\n      <td>0.0</td>\n    </tr>\n    <tr>\n      <th>1</th>\n      <td>3.044522</td>\n      <td>4.394449</td>\n      <td>9.360741</td>\n      <td>5</td>\n      <td>1.945910</td>\n      <td>1961</td>\n      <td>1961</td>\n      <td>0.000000</td>\n      <td>6.150603</td>\n      <td>4.976734</td>\n      <td>...</td>\n      <td>0.0</td>\n      <td>0.0</td>\n      <td>0.0</td>\n      <td>1</td>\n      <td>0.000000</td>\n      <td>0.0</td>\n      <td>0.0</td>\n      <td>0.0</td>\n      <td>1</td>\n      <td>0.0</td>\n    </tr>\n    <tr>\n      <th>2</th>\n      <td>3.044522</td>\n      <td>4.406719</td>\n      <td>9.565775</td>\n      <td>6</td>\n      <td>1.945910</td>\n      <td>1958</td>\n      <td>1958</td>\n      <td>4.691348</td>\n      <td>6.828712</td>\n      <td>0.000000</td>\n      <td>...</td>\n      <td>0.0</td>\n      <td>0.0</td>\n      <td>0.0</td>\n      <td>1</td>\n      <td>0.000000</td>\n      <td>0.0</td>\n      <td>0.0</td>\n      <td>0.0</td>\n      <td>1</td>\n      <td>0.0</td>\n    </tr>\n    <tr>\n      <th>3</th>\n      <td>3.044522</td>\n      <td>4.543295</td>\n      <td>9.320181</td>\n      <td>7</td>\n      <td>1.791759</td>\n      <td>1968</td>\n      <td>1968</td>\n      <td>0.000000</td>\n      <td>6.971669</td>\n      <td>0.000000</td>\n      <td>...</td>\n      <td>0.0</td>\n      <td>0.0</td>\n      <td>0.0</td>\n      <td>1</td>\n      <td>0.000000</td>\n      <td>0.0</td>\n      <td>0.0</td>\n      <td>0.0</td>\n      <td>1</td>\n      <td>0.0</td>\n    </tr>\n    <tr>\n      <th>4</th>\n      <td>4.110874</td>\n      <td>4.317488</td>\n      <td>9.534668</td>\n      <td>5</td>\n      <td>1.791759</td>\n      <td>1997</td>\n      <td>1998</td>\n      <td>0.000000</td>\n      <td>6.674561</td>\n      <td>0.000000</td>\n      <td>...</td>\n      <td>0.0</td>\n      <td>0.0</td>\n      <td>0.0</td>\n      <td>1</td>\n      <td>0.000000</td>\n      <td>0.0</td>\n      <td>0.0</td>\n      <td>0.0</td>\n      <td>1</td>\n      <td>0.0</td>\n    </tr>\n    <tr>\n      <th>...</th>\n      <td>...</td>\n      <td>...</td>\n      <td>...</td>\n      <td>...</td>\n      <td>...</td>\n      <td>...</td>\n      <td>...</td>\n      <td>...</td>\n      <td>...</td>\n      <td>...</td>\n      <td>...</td>\n      <td>...</td>\n      <td>...</td>\n      <td>...</td>\n      <td>...</td>\n      <td>...</td>\n      <td>...</td>\n      <td>...</td>\n      <td>...</td>\n      <td>...</td>\n      <td>...</td>\n    </tr>\n    <tr>\n      <th>2923</th>\n      <td>3.044522</td>\n      <td>4.394449</td>\n      <td>9.764283</td>\n      <td>5</td>\n      <td>1.791759</td>\n      <td>1977</td>\n      <td>1977</td>\n      <td>0.000000</td>\n      <td>6.842683</td>\n      <td>0.000000</td>\n      <td>...</td>\n      <td>0.0</td>\n      <td>0.0</td>\n      <td>0.0</td>\n      <td>1</td>\n      <td>0.000000</td>\n      <td>0.0</td>\n      <td>0.0</td>\n      <td>0.0</td>\n      <td>1</td>\n      <td>0.0</td>\n    </tr>\n    <tr>\n      <th>2924</th>\n      <td>3.044522</td>\n      <td>5.081404</td>\n      <td>9.903538</td>\n      <td>5</td>\n      <td>2.079442</td>\n      <td>1960</td>\n      <td>1996</td>\n      <td>0.000000</td>\n      <td>7.110696</td>\n      <td>0.000000</td>\n      <td>...</td>\n      <td>0.0</td>\n      <td>0.0</td>\n      <td>0.0</td>\n      <td>1</td>\n      <td>0.693359</td>\n      <td>0.0</td>\n      <td>0.0</td>\n      <td>0.0</td>\n      <td>0</td>\n      <td>0.0</td>\n    </tr>\n    <tr>\n      <th>2925</th>\n      <td>4.394449</td>\n      <td>3.637586</td>\n      <td>8.979417</td>\n      <td>6</td>\n      <td>1.945910</td>\n      <td>1984</td>\n      <td>1984</td>\n      <td>0.000000</td>\n      <td>6.709304</td>\n      <td>0.000000</td>\n      <td>...</td>\n      <td>0.0</td>\n      <td>0.0</td>\n      <td>0.0</td>\n      <td>1</td>\n      <td>0.000000</td>\n      <td>0.0</td>\n      <td>0.0</td>\n      <td>0.0</td>\n      <td>1</td>\n      <td>0.0</td>\n    </tr>\n    <tr>\n      <th>2928</th>\n      <td>3.044522</td>\n      <td>4.356709</td>\n      <td>9.211440</td>\n      <td>5</td>\n      <td>1.791759</td>\n      <td>1974</td>\n      <td>1975</td>\n      <td>0.000000</td>\n      <td>6.977281</td>\n      <td>4.820282</td>\n      <td>...</td>\n      <td>0.0</td>\n      <td>0.0</td>\n      <td>0.0</td>\n      <td>1</td>\n      <td>0.000000</td>\n      <td>0.0</td>\n      <td>0.0</td>\n      <td>0.0</td>\n      <td>1</td>\n      <td>0.0</td>\n    </tr>\n    <tr>\n      <th>2929</th>\n      <td>4.110874</td>\n      <td>4.317488</td>\n      <td>9.172431</td>\n      <td>7</td>\n      <td>1.791759</td>\n      <td>1993</td>\n      <td>1994</td>\n      <td>4.553877</td>\n      <td>6.632002</td>\n      <td>0.000000</td>\n      <td>...</td>\n      <td>0.0</td>\n      <td>0.0</td>\n      <td>0.0</td>\n      <td>1</td>\n      <td>0.000000</td>\n      <td>0.0</td>\n      <td>0.0</td>\n      <td>0.0</td>\n      <td>1</td>\n      <td>0.0</td>\n    </tr>\n  </tbody>\n</table>\n<p>2218 rows × 267 columns</p>\n</div>"
     },
     "execution_count": 88,
     "metadata": {},
     "output_type": "execute_result"
    }
   ],
   "source": [
    "X"
   ],
   "metadata": {
    "collapsed": false,
    "pycharm": {
     "name": "#%%\n"
    }
   }
  },
  {
   "cell_type": "code",
   "execution_count": 89,
   "outputs": [],
   "source": [
    "\n",
    "\n",
    "from sklearn.preprocessing import StandardScaler\n",
    "\n",
    "# Assuming 'df' is your dataset\n",
    "scaler = StandardScaler()\n",
    "\n",
    "# Fit the scaler on your data and transform it\n",
    "data = scaler.fit_transform(X)\n",
    "\n",
    "# The 'df_scaled' variable now contains the standardized data\n"
   ],
   "metadata": {
    "collapsed": false,
    "pycharm": {
     "name": "#%%\n"
    }
   }
  },
  {
   "cell_type": "code",
   "execution_count": 90,
   "outputs": [
    {
     "data": {
      "text/plain": "      MS SubClass  Lot Frontage   Lot Area  Overall Qual  Overall Cond  \\\n0        3.044522      4.955827  10.366309             6      1.791759   \n1        3.044522      4.394449   9.360741             5      1.945910   \n2        3.044522      4.406719   9.565775             6      1.945910   \n3        3.044522      4.543295   9.320181             7      1.791759   \n4        4.110874      4.317488   9.534668             5      1.791759   \n...           ...           ...        ...           ...           ...   \n2923     3.044522      4.394449   9.764283             5      1.791759   \n2924     3.044522      5.081404   9.903538             5      2.079442   \n2925     4.394449      3.637586   8.979417             6      1.945910   \n2928     3.044522      4.356709   9.211440             5      1.791759   \n2929     4.110874      4.317488   9.172431             7      1.791759   \n\n      Year Built  Year Remod/Add  Mas Vnr Area  BsmtFin SF 1  BsmtFin SF 2  \\\n0           1960            1960      4.727388      6.461468      0.000000   \n1           1961            1961      0.000000      6.150603      4.976734   \n2           1958            1958      4.691348      6.828712      0.000000   \n3           1968            1968      0.000000      6.971669      0.000000   \n4           1997            1998      0.000000      6.674561      0.000000   \n...          ...             ...           ...           ...           ...   \n2923        1977            1977      0.000000      6.842683      0.000000   \n2924        1960            1996      0.000000      7.110696      0.000000   \n2925        1984            1984      0.000000      6.709304      0.000000   \n2928        1974            1975      0.000000      6.977281      4.820282   \n2929        1993            1994      4.553877      6.632002      0.000000   \n\n      ...  Sale Type_New  Sale Type_Oth  Sale Type_VWD  Sale Type_WD   \\\n0     ...            0.0            0.0            0.0              1   \n1     ...            0.0            0.0            0.0              1   \n2     ...            0.0            0.0            0.0              1   \n3     ...            0.0            0.0            0.0              1   \n4     ...            0.0            0.0            0.0              1   \n...   ...            ...            ...            ...            ...   \n2923  ...            0.0            0.0            0.0              1   \n2924  ...            0.0            0.0            0.0              1   \n2925  ...            0.0            0.0            0.0              1   \n2928  ...            0.0            0.0            0.0              1   \n2929  ...            0.0            0.0            0.0              1   \n\n      Sale Condition_Abnorml  Sale Condition_AdjLand  Sale Condition_Alloca  \\\n0                   0.000000                     0.0                    0.0   \n1                   0.000000                     0.0                    0.0   \n2                   0.000000                     0.0                    0.0   \n3                   0.000000                     0.0                    0.0   \n4                   0.000000                     0.0                    0.0   \n...                      ...                     ...                    ...   \n2923                0.000000                     0.0                    0.0   \n2924                0.693359                     0.0                    0.0   \n2925                0.000000                     0.0                    0.0   \n2928                0.000000                     0.0                    0.0   \n2929                0.000000                     0.0                    0.0   \n\n      Sale Condition_Family  Sale Condition_Normal  Sale Condition_Partial  \n0                       0.0                      1                     0.0  \n1                       0.0                      1                     0.0  \n2                       0.0                      1                     0.0  \n3                       0.0                      1                     0.0  \n4                       0.0                      1                     0.0  \n...                     ...                    ...                     ...  \n2923                    0.0                      1                     0.0  \n2924                    0.0                      0                     0.0  \n2925                    0.0                      1                     0.0  \n2928                    0.0                      1                     0.0  \n2929                    0.0                      1                     0.0  \n\n[2218 rows x 267 columns]",
      "text/html": "<div>\n<style scoped>\n    .dataframe tbody tr th:only-of-type {\n        vertical-align: middle;\n    }\n\n    .dataframe tbody tr th {\n        vertical-align: top;\n    }\n\n    .dataframe thead th {\n        text-align: right;\n    }\n</style>\n<table border=\"1\" class=\"dataframe\">\n  <thead>\n    <tr style=\"text-align: right;\">\n      <th></th>\n      <th>MS SubClass</th>\n      <th>Lot Frontage</th>\n      <th>Lot Area</th>\n      <th>Overall Qual</th>\n      <th>Overall Cond</th>\n      <th>Year Built</th>\n      <th>Year Remod/Add</th>\n      <th>Mas Vnr Area</th>\n      <th>BsmtFin SF 1</th>\n      <th>BsmtFin SF 2</th>\n      <th>...</th>\n      <th>Sale Type_New</th>\n      <th>Sale Type_Oth</th>\n      <th>Sale Type_VWD</th>\n      <th>Sale Type_WD</th>\n      <th>Sale Condition_Abnorml</th>\n      <th>Sale Condition_AdjLand</th>\n      <th>Sale Condition_Alloca</th>\n      <th>Sale Condition_Family</th>\n      <th>Sale Condition_Normal</th>\n      <th>Sale Condition_Partial</th>\n    </tr>\n  </thead>\n  <tbody>\n    <tr>\n      <th>0</th>\n      <td>3.044522</td>\n      <td>4.955827</td>\n      <td>10.366309</td>\n      <td>6</td>\n      <td>1.791759</td>\n      <td>1960</td>\n      <td>1960</td>\n      <td>4.727388</td>\n      <td>6.461468</td>\n      <td>0.000000</td>\n      <td>...</td>\n      <td>0.0</td>\n      <td>0.0</td>\n      <td>0.0</td>\n      <td>1</td>\n      <td>0.000000</td>\n      <td>0.0</td>\n      <td>0.0</td>\n      <td>0.0</td>\n      <td>1</td>\n      <td>0.0</td>\n    </tr>\n    <tr>\n      <th>1</th>\n      <td>3.044522</td>\n      <td>4.394449</td>\n      <td>9.360741</td>\n      <td>5</td>\n      <td>1.945910</td>\n      <td>1961</td>\n      <td>1961</td>\n      <td>0.000000</td>\n      <td>6.150603</td>\n      <td>4.976734</td>\n      <td>...</td>\n      <td>0.0</td>\n      <td>0.0</td>\n      <td>0.0</td>\n      <td>1</td>\n      <td>0.000000</td>\n      <td>0.0</td>\n      <td>0.0</td>\n      <td>0.0</td>\n      <td>1</td>\n      <td>0.0</td>\n    </tr>\n    <tr>\n      <th>2</th>\n      <td>3.044522</td>\n      <td>4.406719</td>\n      <td>9.565775</td>\n      <td>6</td>\n      <td>1.945910</td>\n      <td>1958</td>\n      <td>1958</td>\n      <td>4.691348</td>\n      <td>6.828712</td>\n      <td>0.000000</td>\n      <td>...</td>\n      <td>0.0</td>\n      <td>0.0</td>\n      <td>0.0</td>\n      <td>1</td>\n      <td>0.000000</td>\n      <td>0.0</td>\n      <td>0.0</td>\n      <td>0.0</td>\n      <td>1</td>\n      <td>0.0</td>\n    </tr>\n    <tr>\n      <th>3</th>\n      <td>3.044522</td>\n      <td>4.543295</td>\n      <td>9.320181</td>\n      <td>7</td>\n      <td>1.791759</td>\n      <td>1968</td>\n      <td>1968</td>\n      <td>0.000000</td>\n      <td>6.971669</td>\n      <td>0.000000</td>\n      <td>...</td>\n      <td>0.0</td>\n      <td>0.0</td>\n      <td>0.0</td>\n      <td>1</td>\n      <td>0.000000</td>\n      <td>0.0</td>\n      <td>0.0</td>\n      <td>0.0</td>\n      <td>1</td>\n      <td>0.0</td>\n    </tr>\n    <tr>\n      <th>4</th>\n      <td>4.110874</td>\n      <td>4.317488</td>\n      <td>9.534668</td>\n      <td>5</td>\n      <td>1.791759</td>\n      <td>1997</td>\n      <td>1998</td>\n      <td>0.000000</td>\n      <td>6.674561</td>\n      <td>0.000000</td>\n      <td>...</td>\n      <td>0.0</td>\n      <td>0.0</td>\n      <td>0.0</td>\n      <td>1</td>\n      <td>0.000000</td>\n      <td>0.0</td>\n      <td>0.0</td>\n      <td>0.0</td>\n      <td>1</td>\n      <td>0.0</td>\n    </tr>\n    <tr>\n      <th>...</th>\n      <td>...</td>\n      <td>...</td>\n      <td>...</td>\n      <td>...</td>\n      <td>...</td>\n      <td>...</td>\n      <td>...</td>\n      <td>...</td>\n      <td>...</td>\n      <td>...</td>\n      <td>...</td>\n      <td>...</td>\n      <td>...</td>\n      <td>...</td>\n      <td>...</td>\n      <td>...</td>\n      <td>...</td>\n      <td>...</td>\n      <td>...</td>\n      <td>...</td>\n      <td>...</td>\n    </tr>\n    <tr>\n      <th>2923</th>\n      <td>3.044522</td>\n      <td>4.394449</td>\n      <td>9.764283</td>\n      <td>5</td>\n      <td>1.791759</td>\n      <td>1977</td>\n      <td>1977</td>\n      <td>0.000000</td>\n      <td>6.842683</td>\n      <td>0.000000</td>\n      <td>...</td>\n      <td>0.0</td>\n      <td>0.0</td>\n      <td>0.0</td>\n      <td>1</td>\n      <td>0.000000</td>\n      <td>0.0</td>\n      <td>0.0</td>\n      <td>0.0</td>\n      <td>1</td>\n      <td>0.0</td>\n    </tr>\n    <tr>\n      <th>2924</th>\n      <td>3.044522</td>\n      <td>5.081404</td>\n      <td>9.903538</td>\n      <td>5</td>\n      <td>2.079442</td>\n      <td>1960</td>\n      <td>1996</td>\n      <td>0.000000</td>\n      <td>7.110696</td>\n      <td>0.000000</td>\n      <td>...</td>\n      <td>0.0</td>\n      <td>0.0</td>\n      <td>0.0</td>\n      <td>1</td>\n      <td>0.693359</td>\n      <td>0.0</td>\n      <td>0.0</td>\n      <td>0.0</td>\n      <td>0</td>\n      <td>0.0</td>\n    </tr>\n    <tr>\n      <th>2925</th>\n      <td>4.394449</td>\n      <td>3.637586</td>\n      <td>8.979417</td>\n      <td>6</td>\n      <td>1.945910</td>\n      <td>1984</td>\n      <td>1984</td>\n      <td>0.000000</td>\n      <td>6.709304</td>\n      <td>0.000000</td>\n      <td>...</td>\n      <td>0.0</td>\n      <td>0.0</td>\n      <td>0.0</td>\n      <td>1</td>\n      <td>0.000000</td>\n      <td>0.0</td>\n      <td>0.0</td>\n      <td>0.0</td>\n      <td>1</td>\n      <td>0.0</td>\n    </tr>\n    <tr>\n      <th>2928</th>\n      <td>3.044522</td>\n      <td>4.356709</td>\n      <td>9.211440</td>\n      <td>5</td>\n      <td>1.791759</td>\n      <td>1974</td>\n      <td>1975</td>\n      <td>0.000000</td>\n      <td>6.977281</td>\n      <td>4.820282</td>\n      <td>...</td>\n      <td>0.0</td>\n      <td>0.0</td>\n      <td>0.0</td>\n      <td>1</td>\n      <td>0.000000</td>\n      <td>0.0</td>\n      <td>0.0</td>\n      <td>0.0</td>\n      <td>1</td>\n      <td>0.0</td>\n    </tr>\n    <tr>\n      <th>2929</th>\n      <td>4.110874</td>\n      <td>4.317488</td>\n      <td>9.172431</td>\n      <td>7</td>\n      <td>1.791759</td>\n      <td>1993</td>\n      <td>1994</td>\n      <td>4.553877</td>\n      <td>6.632002</td>\n      <td>0.000000</td>\n      <td>...</td>\n      <td>0.0</td>\n      <td>0.0</td>\n      <td>0.0</td>\n      <td>1</td>\n      <td>0.000000</td>\n      <td>0.0</td>\n      <td>0.0</td>\n      <td>0.0</td>\n      <td>1</td>\n      <td>0.0</td>\n    </tr>\n  </tbody>\n</table>\n<p>2218 rows × 267 columns</p>\n</div>"
     },
     "execution_count": 90,
     "metadata": {},
     "output_type": "execute_result"
    }
   ],
   "source": [
    "X"
   ],
   "metadata": {
    "collapsed": false,
    "pycharm": {
     "name": "#%%\n"
    }
   }
  },
  {
   "cell_type": "code",
   "execution_count": 91,
   "outputs": [],
   "source": [
    "from sklearn.model_selection import train_test_split\n",
    "\n",
    "# Assuming 'X' contains your feature matrix and 'y' contains your target variable\n",
    "X_train, X_test, y_train, y_test = train_test_split(X, y, test_size=0.2, random_state=42)\n"
   ],
   "metadata": {
    "collapsed": false,
    "pycharm": {
     "name": "#%%\n"
    }
   }
  },
  {
   "cell_type": "code",
   "execution_count": 92,
   "outputs": [],
   "source": [
    "linear = LinearRegression()"
   ],
   "metadata": {
    "collapsed": false,
    "pycharm": {
     "name": "#%%\n"
    }
   }
  },
  {
   "cell_type": "code",
   "execution_count": 94,
   "outputs": [
    {
     "data": {
      "text/plain": "LinearRegression()"
     },
     "execution_count": 94,
     "metadata": {},
     "output_type": "execute_result"
    }
   ],
   "source": [
    "linear.fit(X_train,y_train)"
   ],
   "metadata": {
    "collapsed": false,
    "pycharm": {
     "name": "#%%\n"
    }
   }
  },
  {
   "cell_type": "code",
   "execution_count": 95,
   "outputs": [],
   "source": [
    "y_pred= linear.predict(X_test)"
   ],
   "metadata": {
    "collapsed": false,
    "pycharm": {
     "name": "#%%\n"
    }
   }
  },
  {
   "cell_type": "code",
   "execution_count": 98,
   "outputs": [
    {
     "name": "stdout",
     "output_type": "stream",
     "text": [
      "Mean Squared Error: 753924493.0511092\n",
      "Mean Absolute Error: 18116.5357873935\n",
      "R-squared (R2) Score: 0.8993809729211991\n"
     ]
    }
   ],
   "source": [
    "from sklearn.metrics import mean_squared_error, mean_absolute_error, r2_score\n",
    "\n",
    "# Mean Squared Error (MSE)\n",
    "mse = mean_squared_error(y_test, y_pred)\n",
    "print(f\"Mean Squared Error: {mse}\")\n",
    "\n",
    "# Mean Absolute Error (MAE)\n",
    "mae = mean_absolute_error(y_test, y_pred)\n",
    "print(f\"Mean Absolute Error: {mae}\")\n",
    "\n",
    "# R-squared (R2) Score\n",
    "r2 = r2_score(y_test, y_pred)\n",
    "print(f\"R-squared (R2) Score: {r2}\")\n"
   ],
   "metadata": {
    "collapsed": false,
    "pycharm": {
     "name": "#%%\n"
    }
   }
  },
  {
   "cell_type": "code",
   "execution_count": 114,
   "outputs": [
    {
     "data": {
      "text/plain": "   MS SubClass  Lot Frontage   Lot Area  Overall Qual  Overall Cond  \\\n0     3.044522      4.955827  10.366309             6      1.791759   \n\n   Year Built  Year Remod/Add  Mas Vnr Area  BsmtFin SF 1  BsmtFin SF 2  ...  \\\n0        1960            1960      4.727388      6.461468           0.0  ...   \n\n   Sale Type_New  Sale Type_Oth  Sale Type_VWD  Sale Type_WD   \\\n0            0.0            0.0            0.0              1   \n\n   Sale Condition_Abnorml  Sale Condition_AdjLand  Sale Condition_Alloca  \\\n0                     0.0                     0.0                    0.0   \n\n   Sale Condition_Family  Sale Condition_Normal  Sale Condition_Partial  \n0                    0.0                      1                     0.0  \n\n[1 rows x 267 columns]",
      "text/html": "<div>\n<style scoped>\n    .dataframe tbody tr th:only-of-type {\n        vertical-align: middle;\n    }\n\n    .dataframe tbody tr th {\n        vertical-align: top;\n    }\n\n    .dataframe thead th {\n        text-align: right;\n    }\n</style>\n<table border=\"1\" class=\"dataframe\">\n  <thead>\n    <tr style=\"text-align: right;\">\n      <th></th>\n      <th>MS SubClass</th>\n      <th>Lot Frontage</th>\n      <th>Lot Area</th>\n      <th>Overall Qual</th>\n      <th>Overall Cond</th>\n      <th>Year Built</th>\n      <th>Year Remod/Add</th>\n      <th>Mas Vnr Area</th>\n      <th>BsmtFin SF 1</th>\n      <th>BsmtFin SF 2</th>\n      <th>...</th>\n      <th>Sale Type_New</th>\n      <th>Sale Type_Oth</th>\n      <th>Sale Type_VWD</th>\n      <th>Sale Type_WD</th>\n      <th>Sale Condition_Abnorml</th>\n      <th>Sale Condition_AdjLand</th>\n      <th>Sale Condition_Alloca</th>\n      <th>Sale Condition_Family</th>\n      <th>Sale Condition_Normal</th>\n      <th>Sale Condition_Partial</th>\n    </tr>\n  </thead>\n  <tbody>\n    <tr>\n      <th>0</th>\n      <td>3.044522</td>\n      <td>4.955827</td>\n      <td>10.366309</td>\n      <td>6</td>\n      <td>1.791759</td>\n      <td>1960</td>\n      <td>1960</td>\n      <td>4.727388</td>\n      <td>6.461468</td>\n      <td>0.0</td>\n      <td>...</td>\n      <td>0.0</td>\n      <td>0.0</td>\n      <td>0.0</td>\n      <td>1</td>\n      <td>0.0</td>\n      <td>0.0</td>\n      <td>0.0</td>\n      <td>0.0</td>\n      <td>1</td>\n      <td>0.0</td>\n    </tr>\n  </tbody>\n</table>\n<p>1 rows × 267 columns</p>\n</div>"
     },
     "execution_count": 114,
     "metadata": {},
     "output_type": "execute_result"
    }
   ],
   "source": [
    "test=X.head(1)\n",
    "test"
   ],
   "metadata": {
    "collapsed": false,
    "pycharm": {
     "name": "#%%\n"
    }
   }
  },
  {
   "cell_type": "code",
   "execution_count": 118,
   "outputs": [
    {
     "data": {
      "text/plain": "0    215000\nName: SalePrice, dtype: int64"
     },
     "execution_count": 118,
     "metadata": {},
     "output_type": "execute_result"
    }
   ],
   "source": [
    "y.head(1)"
   ],
   "metadata": {
    "collapsed": false,
    "pycharm": {
     "name": "#%%\n"
    }
   }
  },
  {
   "cell_type": "code",
   "execution_count": 115,
   "outputs": [],
   "source": [
    "PREDICTION = linear.predict(test)"
   ],
   "metadata": {
    "collapsed": false,
    "pycharm": {
     "name": "#%%\n"
    }
   }
  },
  {
   "cell_type": "code",
   "execution_count": 116,
   "outputs": [
    {
     "data": {
      "text/plain": "array([232384.46126097])"
     },
     "execution_count": 116,
     "metadata": {},
     "output_type": "execute_result"
    }
   ],
   "source": [
    "PREDICTION"
   ],
   "metadata": {
    "collapsed": false,
    "pycharm": {
     "name": "#%%\n"
    }
   }
  }
 ],
 "metadata": {
  "kernelspec": {
   "display_name": "Python 3",
   "language": "python",
   "name": "python3"
  },
  "language_info": {
   "codemirror_mode": {
    "name": "ipython",
    "version": 2
   },
   "file_extension": ".py",
   "mimetype": "text/x-python",
   "name": "python",
   "nbconvert_exporter": "python",
   "pygments_lexer": "ipython2",
   "version": "2.7.6"
  }
 },
 "nbformat": 4,
 "nbformat_minor": 0
}